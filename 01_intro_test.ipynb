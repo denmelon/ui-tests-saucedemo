{
 "cells": [
  {
   "cell_type": "code",
   "execution_count": 5,
   "id": "57f20471-e90e-4814-a5ad-d10b70e34d4e",
   "metadata": {},
   "outputs": [],
   "source": [
    "from selenium import webdriver\n",
    "from selenium.webdriver.common.by import By\n",
    "import time\n",
    "\n",
    "driver = webdriver.Chrome()\n",
    "\n",
    "driver.get(\"https://www.saucedemo.com/\")\n",
    "\n",
    "driver.find_element(By.ID, \"user-name\").send_keys(\"standard_user\")\n",
    "\n",
    "driver.find_element(By.ID, \"password\").send_keys(\"secret_sauce\")\n",
    "\n",
    "driver.find_element(By.ID, \"login-button\").click()\n",
    "\n",
    "assert \"inventory\" in driver.current_url, \"Login failed\"\n",
    "\n",
    "time.sleep(3)\n",
    "driver.quit()\n"
   ]
  },
  {
   "cell_type": "code",
   "execution_count": null,
   "id": "539ec794-4f4c-43f3-b0fd-10a154fbbc2c",
   "metadata": {},
   "outputs": [],
   "source": []
  },
  {
   "cell_type": "code",
   "execution_count": null,
   "id": "39ae6541-87a8-4651-a71b-82a127939810",
   "metadata": {},
   "outputs": [],
   "source": []
  }
 ],
 "metadata": {
  "kernelspec": {
   "display_name": "Python 3 (ipykernel)",
   "language": "python",
   "name": "python3"
  },
  "language_info": {
   "codemirror_mode": {
    "name": "ipython",
    "version": 3
   },
   "file_extension": ".py",
   "mimetype": "text/x-python",
   "name": "python",
   "nbconvert_exporter": "python",
   "pygments_lexer": "ipython3",
   "version": "3.12.11"
  }
 },
 "nbformat": 4,
 "nbformat_minor": 5
}
