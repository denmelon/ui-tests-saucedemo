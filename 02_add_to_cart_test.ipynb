{
 "cells": [
  {
   "cell_type": "code",
   "execution_count": 5,
   "id": "475e2ed7-6f48-463f-bbfe-8f99ad311361",
   "metadata": {},
   "outputs": [
    {
     "name": "stdout",
     "output_type": "stream",
     "text": [
      "Added item: Sauce Labs Backpack\n"
     ]
    }
   ],
   "source": [
    "from selenium import webdriver\n",
    "from selenium.webdriver.common.by import By\n",
    "import time\n",
    "\n",
    "# Открываем браузер\n",
    "driver = webdriver.Chrome()\n",
    "driver.get(\"https://www.saucedemo.com/\")\n",
    "\n",
    "# Авторизация\n",
    "driver.find_element(By.ID, \"user-name\").send_keys(\"standard_user\")\n",
    "driver.find_element(By.ID, \"password\").send_keys(\"secret_sauce\")\n",
    "driver.find_element(By.ID, \"login-button\").click()\n",
    "\n",
    "# Проверка успешного входа\n",
    "assert \"inventory\" in driver.current_url, \"Login failed\"\n",
    "\n",
    "# Добавляем первый товар в корзин\n",
    "driver.find_element(By.CLASS_NAME, \"btn_inventory\").click()\n",
    "\n",
    "# Переход в корзину\n",
    "driver.find_element(By.CLASS_NAME, \"shopping_cart_link\")\n",
    "\n",
    "# Проверка, что товар действительно в корзине\n",
    "item_name = driver.find_element(By.CLASS_NAME, \"inventory_item_name\").text\n",
    "print(\"Added item:\", item_name)\n",
    "assert item_name != \"\", \"Item is not found in the cart\"\n",
    "\n",
    "# Пауза и завершение\n",
    "time.sleep(3)\n",
    "driver.quit()"
   ]
  },
  {
   "cell_type": "code",
   "execution_count": null,
   "id": "5f1fdeb4-4e14-4c42-8f8e-cd42bcb1f939",
   "metadata": {},
   "outputs": [],
   "source": []
  }
 ],
 "metadata": {
  "kernelspec": {
   "display_name": "Python 3 (ipykernel)",
   "language": "python",
   "name": "python3"
  },
  "language_info": {
   "codemirror_mode": {
    "name": "ipython",
    "version": 3
   },
   "file_extension": ".py",
   "mimetype": "text/x-python",
   "name": "python",
   "nbconvert_exporter": "python",
   "pygments_lexer": "ipython3",
   "version": "3.12.11"
  }
 },
 "nbformat": 4,
 "nbformat_minor": 5
}
